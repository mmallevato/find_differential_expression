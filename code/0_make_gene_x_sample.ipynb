{
 "cells": [
  {
   "cell_type": "code",
   "execution_count": null,
   "metadata": {
    "ExecuteTime": {
     "end_time": "2018-07-09T07:10:38.299421Z",
     "start_time": "2018-07-09T07:10:38.287916Z"
    }
   },
   "outputs": [],
   "source": [
    "%load_ext autoreload\n",
    "%autoreload 2"
   ]
  },
  {
   "cell_type": "code",
   "execution_count": null,
   "metadata": {},
   "outputs": [],
   "source": [
    "from environment import *\n",
    "\n",
    "with open(\"setting.yaml\") as yaml_file:\n",
    "\n",
    "    SETTING = yaml.load(yaml_file)\n",
    "\n",
    "PATH = make_path_dict(SETTING)"
   ]
  },
  {
   "cell_type": "code",
   "execution_count": null,
   "metadata": {
    "ExecuteTime": {
     "end_time": "2018-07-09T07:10:42.984713Z",
     "start_time": "2018-07-09T07:10:40.165710Z"
    }
   },
   "outputs": [],
   "source": [
    "for sample_id, fastqs in SETTING[\"fastqs\"].items():\n",
    "\n",
    "    ccal.count_transcripts_using_kallisto_quant(\n",
    "        fastqs,\n",
    "        SETTING[\"reference_cdna_fasta_file_path\"],\n",
    "        \"{}/{}\".format(PATH[\"kallisto/\"], sample_id),\n",
    "        n_job=SETTING[\"n_job\"],\n",
    "    )"
   ]
  },
  {
   "cell_type": "code",
   "execution_count": null,
   "metadata": {},
   "outputs": [],
   "source": [
    "tpms = []\n",
    "\n",
    "for sample_id, fastqs in SETTING[\"fastqs\"].items():\n",
    "\n",
    "    tpm = pd.read_csv(\n",
    "        \"{}/{}/abundance.tsv\".format(PATH[\"kallisto/\"], sample_id),\n",
    "        sep=\"\\t\",\n",
    "        index_col=0,\n",
    "    )[\"tpm\"]\n",
    "\n",
    "    tpm.name = sample_id\n",
    "\n",
    "    tpms.append(tpm)\n",
    "\n",
    "enst_x_sample = ccal.clean_and_write_df_to_tsv(\n",
    "    pd.concat(tpms, axis=1), \"ENST\", PATH[\"enst_x_sample.tsv\"]\n",
    ")\n",
    "\n",
    "enst_x_sample"
   ]
  },
  {
   "cell_type": "code",
   "execution_count": null,
   "metadata": {
    "ExecuteTime": {
     "end_time": "2018-07-09T07:10:43.505155Z",
     "start_time": "2018-07-09T07:10:42.986606Z"
    }
   },
   "outputs": [],
   "source": [
    "gene_x_sample = enst_x_sample.copy()\n",
    "\n",
    "enst_gene_name = pd.read_csv(SETTING[\"enst_gene_name_file_path\"], sep=\"\\t\")\n",
    "\n",
    "gene_x_sample.index = enst_x_sample.index.map(\n",
    "    dict(\n",
    "        zip(\n",
    "            enst_gene_name[\"Transcript stable ID version\"],\n",
    "            enst_gene_name[\"Gene name\"].str.upper(),\n",
    "        )\n",
    "    )\n",
    ")\n",
    "\n",
    "gene_x_sample = gene_x_sample.loc[~gene_x_sample.index.isna()]\n",
    "\n",
    "gene_x_sample__processed = ccal.clean_and_write_df_to_tsv(\n",
    "    ccal.process_feature_x_sample(\n",
    "        gene_x_sample.groupby(level=0).mean(),\n",
    "        features_to_drop=SETTING[\"features_to_drop\"],\n",
    "        samples_to_drop=SETTING[\"samples_to_drop\"],\n",
    "        nanize=SETTING[\"nanize\"],\n",
    "        drop_axis=SETTING[\"drop_axis\"],\n",
    "        max_na=SETTING[\"max_na\"],\n",
    "        min_n_not_na_unique_value=SETTING[\"min_n_not_na_unique_value\"],\n",
    "        shift_as_necessary_to_achieve_min_before_logging=SETTING[\n",
    "            \"shift_as_necessary_to_achieve_min_before_logging\"\n",
    "        ],\n",
    "        log_base=SETTING[\"log_base\"],\n",
    "        normalization_axis=SETTING[\"normalization_axis\"],\n",
    "        normalization_method=SETTING[\"normalization_method\"],\n",
    "        clip_min=SETTING[\"clip_min\"],\n",
    "        clip_max=SETTING[\"clip_max\"],\n",
    "        plot_heat_map_max_size=SETTING[\"plot_heat_map_max_size\"],\n",
    "        plot_distributions_max_size=SETTING[\"plot_distributions_max_size\"],\n",
    "        plot_rug_max_size=SETTING[\"plot_rug_max_size\"],\n",
    "    ),\n",
    "    \"Gene\",\n",
    "    PATH[\"gene_x_sample.processed.tsv\"],\n",
    ")\n",
    "\n",
    "gene_x_sample__processed"
   ]
  },
  {
   "cell_type": "code",
   "execution_count": null,
   "metadata": {},
   "outputs": [],
   "source": [
    "column_values = tuple(\n",
    "    gene_x_sample__processed.iloc[:, i]\n",
    "    for i in range(gene_x_sample__processed.shape[1])\n",
    ")\n",
    "\n",
    "colors = ccal.COLOR_CATEGORICAL\n",
    "\n",
    "if len(colors) < len(column_values):\n",
    "\n",
    "    colors = tuple(ccal.make_random_color(\"hex\") for i in range(len(column_values)))\n",
    "\n",
    "ccal.plot_distributions(\n",
    "    column_values,\n",
    "    names=gene_x_sample__processed.columns,\n",
    "    colors=colors,\n",
    "    plot_rug=False,\n",
    "    title=\"Column Value Distribution\",\n",
    "    xaxis_title=\"Column Value\",\n",
    ")"
   ]
  }
 ],
 "metadata": {
  "kernelspec": {
   "display_name": "Python 3",
   "language": "python",
   "name": "python3"
  },
  "language_info": {
   "codemirror_mode": {
    "name": "ipython",
    "version": 3
   },
   "file_extension": ".py",
   "mimetype": "text/x-python",
   "name": "python",
   "nbconvert_exporter": "python",
   "pygments_lexer": "ipython3",
   "version": "3.6.7"
  }
 },
 "nbformat": 4,
 "nbformat_minor": 2
}
